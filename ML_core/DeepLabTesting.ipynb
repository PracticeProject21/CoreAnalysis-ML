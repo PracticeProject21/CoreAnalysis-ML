{
 "cells": [
  {
   "cell_type": "code",
   "execution_count": 109,
   "id": "893d2fd5",
   "metadata": {},
   "outputs": [],
   "source": [
    "import numpy as np\n",
    "import torch\n",
    "import matplotlib.pyplot as plt\n",
    "import cv2\n",
    "import torch.nn.functional as f\n",
    "from tqdm import tqdm\n",
    "from sklearn.model_selection import train_test_split\n",
    "import torchvision.transforms as T\n",
    "from preprocessing.DateCategories import ultra_for_model\n",
    "from PIL import Image\n",
    "from torch.utils.data import Dataset, DataLoader\n",
    "#from model_tools import IoU, pixel_accuracy, train_model\n",
    "#from model_hyperparameters import UltravioletDataset, CoreDataset\n",
    "\n",
    "torch.cuda.empty_cache()\n",
    "torch.manual_seed(41)\n",
    "np.random.seed(41)\n",
    "torch.backends.cudnn.deterministic = True\n",
    "torch.cuda.manual_seed(41)"
   ]
  },
  {
   "cell_type": "code",
   "execution_count": 110,
   "id": "5e369f1e",
   "metadata": {},
   "outputs": [],
   "source": [
    "IMAGE_PATH = 'C:/Users/tolik/information_technology/third_year/practice_project/CoreAnalysis-ML/data_for_study/photos/'\n",
    "ULTRA_MASK_PATH = 'C:/Users/tolik/information_technology/third_year/practice_project/CoreAnalysis-ML/data_for_study/labels/ultraviolet/label_'"
   ]
  },
  {
   "cell_type": "code",
   "execution_count": 126,
   "id": "d67ff9d3",
   "metadata": {},
   "outputs": [
    {
     "name": "stdout",
     "output_type": "stream",
     "text": [
      "Размер X_train: 600\n",
      "Размер X_test: 45\n",
      "Размер X_val: 115\n"
     ]
    }
   ],
   "source": [
    "# разобьем все изображения на тренировочную, тестовую, валидационную части\n",
    "X_train, X_test = train_test_split(ultra_for_model, test_size = 0.059, random_state = 19)\n",
    "X_train, X_val = train_test_split(X_train, test_size = 0.160, random_state = 19)\n",
    "\n",
    "print('Размер X_train: {}\\n'\n",
    "      'Размер X_test: {}\\n'\n",
    "      'Размер X_val: {}'\n",
    "      .format(len(X_train), len(X_test), len(X_val)))"
   ]
  },
  {
   "cell_type": "code",
   "execution_count": 211,
   "id": "9334b210",
   "metadata": {},
   "outputs": [],
   "source": [
    "class CoreDataset(Dataset):\n",
    "    def __init__(self, img_path, mask_path, data,\n",
    "                 res=None,\n",
    "                 augmentation=None,\n",
    "                 patching=False):\n",
    "        self.img_path = img_path\n",
    "        self.mask_path = mask_path\n",
    "        self.data = data\n",
    "        if res:\n",
    "            self.resizing = True\n",
    "            self.h, self.w = res\n",
    "        else: \n",
    "            self.resizing = False\n",
    "        self.patching = patching\n",
    "        self.augmentation = augmentation\n",
    "        self.transformation = T.Compose([T.ToTensor(),\n",
    "                                         T.Normalize(mean=[0.485, 0.456, 0.406],\n",
    "                                                     std=[0.229, 0.224, 0.225])])\n",
    "    def __len__(self):\n",
    "        return len(self.data)\n",
    "\n",
    "    def __getitem__(self, index):\n",
    "        img = cv2.imread(self.img_path + str(self.data[index]) + '.jpeg')\n",
    "        mask = np.load(self.mask_path + str(self.data[index]) + '.npz')['x']\n",
    "        if self.augmentation is not None:\n",
    "            a = self.augmentation(image=img, mask=mask)\n",
    "            img = a['image']\n",
    "            mask = np.asarray(a['mask'])\n",
    "        img = Image.fromarray(img)\n",
    "        if self.resizing:\n",
    "            img = T.Resize([self.h, self.w])(img)\n",
    "            mask = cv2.resize(mask, (self.w, self.h))\n",
    "        img = self.transformation(img)\n",
    "        mask = torch.from_numpy(mask).long()\n",
    "\n",
    "        if self.patching:\n",
    "            img, mask = self.patch(img, mask)\n",
    "        return img, mask\n",
    "\n",
    "    def patch(self, img, mask):\n",
    "        # реализавать разбивку изображения на части\n",
    "        return img, mask\n",
    "\n",
    "class UltravioletDataset(CoreDataset):\n",
    "    classes = ['Отсутствует, Карбонатное, Насыщенное']\n",
    "\n",
    "class DaylightDataset(CoreDataset):\n",
    "    classes = ['Переслаивание пород, Алевролит глинистый, Песчаник,'\n",
    "               'Аргиллит, Разлом, Проба']"
   ]
  },
  {
   "cell_type": "code",
   "execution_count": 139,
   "id": "cba0854c",
   "metadata": {},
   "outputs": [],
   "source": [
    "import albumentations as albu\n",
    "augment_1 = albu.Compose([\n",
    "    albu.HorizontalFlip(),\n",
    "    albu.VerticalFlip(),\n",
    "    albu.RandomBrightnessContrast((0,0.5),(0,0.5))\n",
    "])"
   ]
  },
  {
   "cell_type": "code",
   "execution_count": 229,
   "id": "dfd0a364",
   "metadata": {},
   "outputs": [],
   "source": [
    "DEVICE = torch.device('cuda:0' if torch.cuda.is_available() else 'cpu')\n",
    "\n",
    "##############################################################################\n",
    "# Метрики для оценивания модели\n",
    "def pixel_accuracy(predict, original):\n",
    "    # accuracy = кол-во верных пикселей / кол-во пикселей\n",
    "    with torch.no_grad():\n",
    "        predict = torch.argmax(f.softmax(predict, dim=1), dim = 1)\n",
    "        correct_pixels = torch.eq(predict, original).int()\n",
    "        accuracy = float(correct_pixels.sum()) / float(correct_pixels.numel())\n",
    "    return accuracy\n",
    "\n",
    "def IoU(predict, original, number_of_class):\n",
    "    #iou = объединение / пересечение\n",
    "    eps = 0.00001\n",
    "    with torch.no_grad():\n",
    "        predict = torch.argmax(f.softmax(predict, dim=1), dim=1)\n",
    "\n",
    "        # сделаем из масок одномерный тензор\n",
    "        predict = predict.contiguous().view(-1)\n",
    "        original = original.contiguous().view(-1)\n",
    "\n",
    "        IoU = []\n",
    "        for i in range(0, number_of_class):\n",
    "            # посчитаем количество пикселей каждого класса\n",
    "            # на predict и на original\n",
    "            i_class_orig = (original == i).long()\n",
    "            i_class_pred = (predict == i).long()\n",
    "\n",
    "            if i_class_orig.sum().item() == 0:\n",
    "                IoU.append(np.nan)\n",
    "            else:\n",
    "                intersection = torch.logical_and(i_class_orig,\n",
    "                                                 i_class_pred).sum().float().item()\n",
    "                union = torch.logical_or(i_class_orig,\n",
    "                                                 i_class_pred).sum().float().item()\n",
    "                IoU.append((intersection + eps)/(union + eps))\n",
    "\n",
    "        return np.nanmean(IoU)\n",
    "##############################################################################\n",
    "\n",
    "\n",
    "#############################################################################\n",
    "# обучение модели\n",
    "def train_model(model, N_classes, model_name,\n",
    "                optimizer, scheduler, loss,\n",
    "                train_dl, val_dl, num_epochs,\n",
    "                pixel_accuracy = pixel_accuracy,\n",
    "                IoU = IoU,\n",
    "                patch=False, device=DEVICE):\n",
    "    statistic_dict = {'pixel_accuracy_val':[], 'IoU_val':[],\n",
    "                      'pixel_accuracy_train': [], 'IoU_train': [],\n",
    "                      'loss_train':[], 'loss_val':[]}\n",
    "    max_iou = -1\n",
    "    decrease = 0 # будем вести счетчик падения loss-функции\n",
    "    device = model.to(device)\n",
    "\n",
    "    for epoch in range(num_epochs):\n",
    "        print(f'Epoch № {epoch+1}', flush=True)\n",
    "        for phase in ['training', 'validation']:\n",
    "            running_loss = 0\n",
    "            running_iou = 0\n",
    "            running_accuracy = 0\n",
    "            if phase == 'training':\n",
    "\n",
    "                model.train()\n",
    "                for img, mask in tqdm(train_dl):\n",
    "                    if patch:\n",
    "                        ## реализовать разбивку\n",
    "                        pass\n",
    "                    #img = img.to(device)\n",
    "                    #mask = mask.to(device)\n",
    "\n",
    "                    optimizer.zero_grad()\n",
    "                    predict = model(img)\n",
    "                    loss_value = loss(predict, mask)\n",
    "                    loss_value.backward()\n",
    "                    optimizer.step()\n",
    "                    scheduler.step()\n",
    "\n",
    "                    running_loss += loss_value.item()\n",
    "                    running_accuracy += pixel_accuracy(predict, mask)\n",
    "                    running_iou += IoU(predict, mask, number_of_class=N_classes)\n",
    "\n",
    "                # подсчет статистик для тренировочной фазы\n",
    "                loss_value_mean = running_loss / len(train_dl)\n",
    "                accuracy_value_mean = running_accuracy / len(train_dl)\n",
    "                iou_value_mean = running_iou / len(train_dl)\n",
    "                statistic_dict['loss_train'].append(loss_value_mean)\n",
    "                statistic_dict['pixel_accuracy_train'].append(accuracy_value_mean)\n",
    "                statistic_dict['IoU_train'].append(iou_value_mean)\n",
    "\n",
    "                print(f'train-loss: {loss_value_mean}',\n",
    "                      f'train-accuracy: {accuracy_value_mean}',\n",
    "                      f'train-iou: {iou_value_mean}', sep='\\n')\n",
    "            else:\n",
    "                model.eval()\n",
    "                with torch.no_grad():\n",
    "                    for img, mask in tqdm(val_dl):\n",
    "                        if patch:\n",
    "                            ## реализовать разбивку\n",
    "                            pass\n",
    "                        #img = img.to(device)\n",
    "                        #mask = mask.to(device)\n",
    "\n",
    "                        predict = model(img)\n",
    "                        loss_value = loss(predict, mask)\n",
    "\n",
    "                        running_loss += loss_value.item()\n",
    "                        running_accuracy += pixel_accuracy(predict, mask)\n",
    "                        running_iou += IoU(predict, mask, number_of_class=N_classes)\n",
    "\n",
    "                    # подсчет статистик для тренировочной фазы\n",
    "                loss_value_mean = running_loss / len(val_dl)\n",
    "                accuracy_value_mean = running_accuracy / len(val_dl)\n",
    "                iou_value_mean = running_iou / len(val_dl)\n",
    "                statistic_dict['loss_val'].append(loss_value_mean)\n",
    "                statistic_dict['pixel_accuracy_val'].append(accuracy_value_mean)\n",
    "                statistic_dict['IoU_val'].append(iou_value_mean)\n",
    "\n",
    "                print(f'validation-loss: {loss_value_mean}',\n",
    "                      f'validation-accuracy: {accuracy_value_mean}',\n",
    "                      f'validation-iou: {iou_value_mean}', sep='\\n')\n",
    "\n",
    "                if iou_value_mean > max_iou:\n",
    "                    max_iou = iou_value_mean\n",
    "                    print('saving model ...')\n",
    "                    torch.save(model,\n",
    "                               f'{model_name}_{iou_value_mean}iou_{accuracy_value_mean}acc.pth')\n",
    "\n",
    "    return statistic_dict"
   ]
  },
  {
   "cell_type": "code",
   "execution_count": 213,
   "id": "8ab0f6b5",
   "metadata": {},
   "outputs": [],
   "source": [
    "train_set = UltravioletDataset(img_path = IMAGE_PATH,\n",
    "                               mask_path = ULTRA_MASK_PATH,\n",
    "                               data = X_train,\n",
    "                               res = [768, 512],\n",
    "                               augmentation=augment_1)\n",
    "val_set = UltravioletDataset(img_path = IMAGE_PATH,\n",
    "                             mask_path = ULTRA_MASK_PATH,\n",
    "                             res = [768, 512],\n",
    "                             data = X_val)\n",
    "test_set = UltravioletDataset(img_path = IMAGE_PATH,\n",
    "                              mask_path = ULTRA_MASK_PATH,\n",
    "                              res = [768, 512],\n",
    "                              data = X_test)"
   ]
  },
  {
   "cell_type": "code",
   "execution_count": 214,
   "id": "8169ba8e",
   "metadata": {},
   "outputs": [],
   "source": [
    "# Загрузчики данных\n",
    "train_dataloader = DataLoader(dataset=train_set,\n",
    "                              batch_size=6,\n",
    "                              shuffle=True)\n",
    "val_dataloader = DataLoader(dataset=val_set,\n",
    "                              batch_size=5,\n",
    "                              shuffle=False)\n",
    "test_dataloader = DataLoader(dataset=test_set,\n",
    "                            batch_size=5,\n",
    "                            shuffle=False)"
   ]
  },
  {
   "cell_type": "code",
   "execution_count": 170,
   "id": "b8874aa3",
   "metadata": {},
   "outputs": [],
   "source": [
    "import segmentation_models_pytorch as smp\n",
    "model = smp.DeepLabV3Plus(encoder_name='resnet18', encoder_depth=5, encoder_weights='imagenet',\n",
    "                          encoder_output_stride=16,\n",
    "                          decoder_channels=256, decoder_atrous_rates=(12, 24, 36),\n",
    "                          in_channels=3, classes=3)"
   ]
  },
  {
   "cell_type": "code",
   "execution_count": 171,
   "id": "f4da536a",
   "metadata": {},
   "outputs": [],
   "source": [
    "device = torch.device('cuda:0' if torch.cuda.is_available() else 'cpu')\n",
    "optimizer = torch.optim.AdamW(model.parameters(), lr = 1.0e-3, weight_decay=1.0e-4)\n",
    "scheduler = torch.optim.lr_scheduler.StepLR(optimizer, step_size=5, gamma = 0.01)\n",
    "loss = torch.nn.CrossEntropyLoss()"
   ]
  },
  {
   "cell_type": "code",
   "execution_count": 172,
   "id": "d35afd1d",
   "metadata": {},
   "outputs": [
    {
     "name": "stdout",
     "output_type": "stream",
     "text": [
      "Epoch № 1\n"
     ]
    },
    {
     "name": "stderr",
     "output_type": "stream",
     "text": [
      "100%|████████████████████████████████████████████████████████████████████████████████| 100/100 [16:18<00:00,  9.78s/it]\n",
      "  0%|                                                                                           | 0/23 [00:00<?, ?it/s]"
     ]
    },
    {
     "name": "stdout",
     "output_type": "stream",
     "text": [
      "train-loss: 0.7737749356031418\n",
      "train-accuracy: 0.74592963748508\n",
      "train-iou: 0.49726935154133195\n"
     ]
    },
    {
     "name": "stderr",
     "output_type": "stream",
     "text": [
      "100%|██████████████████████████████████████████████████████████████████████████████████| 23/23 [01:25<00:00,  3.72s/it]"
     ]
    },
    {
     "name": "stdout",
     "output_type": "stream",
     "text": [
      "validation-loss: 0.61035824858624\n",
      "validation-accuracy: 0.8087081024612206\n",
      "validation-iou: 0.5704858012872165\n",
      "saving model ...\n",
      "Epoch № 2\n"
     ]
    },
    {
     "name": "stderr",
     "output_type": "stream",
     "text": [
      "\n",
      "100%|████████████████████████████████████████████████████████████████████████████████| 100/100 [15:28<00:00,  9.29s/it]\n",
      "  0%|                                                                                           | 0/23 [00:00<?, ?it/s]"
     ]
    },
    {
     "name": "stdout",
     "output_type": "stream",
     "text": [
      "train-loss: 0.8036981010437012\n",
      "train-accuracy: 0.7375160556369358\n",
      "train-iou: 0.48909048896647633\n"
     ]
    },
    {
     "name": "stderr",
     "output_type": "stream",
     "text": [
      "100%|██████████████████████████████████████████████████████████████████████████████████| 23/23 [01:22<00:00,  3.59s/it]"
     ]
    },
    {
     "name": "stdout",
     "output_type": "stream",
     "text": [
      "validation-loss: 0.6134511789549952\n",
      "validation-accuracy: 0.8120317763176521\n",
      "validation-iou: 0.5781901650541681\n",
      "saving model ...\n",
      "Epoch № 3\n"
     ]
    },
    {
     "name": "stderr",
     "output_type": "stream",
     "text": [
      "\n",
      "100%|████████████████████████████████████████████████████████████████████████████████| 100/100 [15:33<00:00,  9.33s/it]\n",
      "  0%|                                                                                           | 0/23 [00:00<?, ?it/s]"
     ]
    },
    {
     "name": "stdout",
     "output_type": "stream",
     "text": [
      "train-loss: 0.7912891808152199\n",
      "train-accuracy: 0.7452004199557832\n",
      "train-iou: 0.4943568823015348\n"
     ]
    },
    {
     "name": "stderr",
     "output_type": "stream",
     "text": [
      "100%|██████████████████████████████████████████████████████████████████████████████████| 23/23 [01:22<00:00,  3.61s/it]"
     ]
    },
    {
     "name": "stdout",
     "output_type": "stream",
     "text": [
      "validation-loss: 0.5991453994875369\n",
      "validation-accuracy: 0.8118631777556047\n",
      "validation-iou: 0.5765234901595343\n",
      "Epoch № 4\n"
     ]
    },
    {
     "name": "stderr",
     "output_type": "stream",
     "text": [
      "\n",
      "100%|████████████████████████████████████████████████████████████████████████████████| 100/100 [15:44<00:00,  9.45s/it]\n",
      "  0%|                                                                                           | 0/23 [00:00<?, ?it/s]"
     ]
    },
    {
     "name": "stdout",
     "output_type": "stream",
     "text": [
      "train-loss: 0.778313874900341\n",
      "train-accuracy: 0.7460272555881076\n",
      "train-iou: 0.5051432052855728\n"
     ]
    },
    {
     "name": "stderr",
     "output_type": "stream",
     "text": [
      "100%|██████████████████████████████████████████████████████████████████████████████████| 23/23 [01:21<00:00,  3.53s/it]"
     ]
    },
    {
     "name": "stdout",
     "output_type": "stream",
     "text": [
      "validation-loss: 0.5628550830094711\n",
      "validation-accuracy: 0.8453029245570086\n",
      "validation-iou: 0.6360283180796652\n",
      "saving model ...\n",
      "Epoch № 5\n"
     ]
    },
    {
     "name": "stderr",
     "output_type": "stream",
     "text": [
      "\n",
      "100%|████████████████████████████████████████████████████████████████████████████████| 100/100 [58:53<00:00, 35.34s/it]\n",
      "  0%|                                                                                           | 0/23 [00:00<?, ?it/s]"
     ]
    },
    {
     "name": "stdout",
     "output_type": "stream",
     "text": [
      "train-loss: 0.7644480603933335\n",
      "train-accuracy: 0.7515666029188367\n",
      "train-iou: 0.5011274451377097\n"
     ]
    },
    {
     "name": "stderr",
     "output_type": "stream",
     "text": [
      "100%|██████████████████████████████████████████████████████████████████████████████████| 23/23 [01:18<00:00,  3.42s/it]"
     ]
    },
    {
     "name": "stdout",
     "output_type": "stream",
     "text": [
      "validation-loss: 0.5716787421185038\n",
      "validation-accuracy: 0.8352927829908291\n",
      "validation-iou: 0.6184402433049278\n",
      "Epoch № 6\n"
     ]
    },
    {
     "name": "stderr",
     "output_type": "stream",
     "text": [
      "\n",
      "100%|████████████████████████████████████████████████████████████████████████████████| 100/100 [17:24<00:00, 10.45s/it]\n",
      "  0%|                                                                                           | 0/23 [00:00<?, ?it/s]"
     ]
    },
    {
     "name": "stdout",
     "output_type": "stream",
     "text": [
      "train-loss: 0.7699231940507889\n",
      "train-accuracy: 0.7548176829020184\n",
      "train-iou: 0.4883663373859538\n"
     ]
    },
    {
     "name": "stderr",
     "output_type": "stream",
     "text": [
      "100%|██████████████████████████████████████████████████████████████████████████████████| 23/23 [01:27<00:00,  3.81s/it]"
     ]
    },
    {
     "name": "stdout",
     "output_type": "stream",
     "text": [
      "validation-loss: 0.5411944713281549\n",
      "validation-accuracy: 0.8495597949926407\n",
      "validation-iou: 0.6455301277587399\n",
      "saving model ...\n",
      "Epoch № 7\n"
     ]
    },
    {
     "name": "stderr",
     "output_type": "stream",
     "text": [
      "\n",
      "100%|████████████████████████████████████████████████████████████████████████████████| 100/100 [16:40<00:00, 10.00s/it]\n",
      "  0%|                                                                                           | 0/23 [00:00<?, ?it/s]"
     ]
    },
    {
     "name": "stdout",
     "output_type": "stream",
     "text": [
      "train-loss: 0.7564534708857537\n",
      "train-accuracy: 0.7545508914523655\n",
      "train-iou: 0.508337889693571\n"
     ]
    },
    {
     "name": "stderr",
     "output_type": "stream",
     "text": [
      "100%|██████████████████████████████████████████████████████████████████████████████████| 23/23 [01:27<00:00,  3.80s/it]"
     ]
    },
    {
     "name": "stdout",
     "output_type": "stream",
     "text": [
      "validation-loss: 0.5423528396564982\n",
      "validation-accuracy: 0.8519307896710823\n",
      "validation-iou: 0.6500653609969054\n",
      "saving model ...\n",
      "Epoch № 8\n"
     ]
    },
    {
     "name": "stderr",
     "output_type": "stream",
     "text": [
      "\n",
      "100%|████████████████████████████████████████████████████████████████████████████████| 100/100 [16:50<00:00, 10.11s/it]\n",
      "  0%|                                                                                           | 0/23 [00:00<?, ?it/s]"
     ]
    },
    {
     "name": "stdout",
     "output_type": "stream",
     "text": [
      "train-loss: 0.7762680119276046\n",
      "train-accuracy: 0.757136959499783\n",
      "train-iou: 0.5203970437456483\n"
     ]
    },
    {
     "name": "stderr",
     "output_type": "stream",
     "text": [
      "100%|██████████████████████████████████████████████████████████████████████████████████| 23/23 [01:29<00:00,  3.88s/it]"
     ]
    },
    {
     "name": "stdout",
     "output_type": "stream",
     "text": [
      "validation-loss: 0.5798698002877443\n",
      "validation-accuracy: 0.8368924348250679\n",
      "validation-iou: 0.6231552448258699\n",
      "Epoch № 9\n"
     ]
    },
    {
     "name": "stderr",
     "output_type": "stream",
     "text": [
      "\n",
      "100%|████████████████████████████████████████████████████████████████████████████████| 100/100 [16:57<00:00, 10.17s/it]\n",
      "  0%|                                                                                           | 0/23 [00:00<?, ?it/s]"
     ]
    },
    {
     "name": "stdout",
     "output_type": "stream",
     "text": [
      "train-loss: 0.7587997308373451\n",
      "train-accuracy: 0.7537203979492189\n",
      "train-iou: 0.4926730346990269\n"
     ]
    },
    {
     "name": "stderr",
     "output_type": "stream",
     "text": [
      "100%|██████████████████████████████████████████████████████████████████████████████████| 23/23 [01:31<00:00,  3.98s/it]"
     ]
    },
    {
     "name": "stdout",
     "output_type": "stream",
     "text": [
      "validation-loss: 0.5628763229950614\n",
      "validation-accuracy: 0.8485492651013362\n",
      "validation-iou: 0.6430263823878439\n",
      "Epoch № 10\n"
     ]
    },
    {
     "name": "stderr",
     "output_type": "stream",
     "text": [
      "\n",
      "100%|████████████████████████████████████████████████████████████████████████████████| 100/100 [17:10<00:00, 10.30s/it]\n",
      "  0%|                                                                                           | 0/23 [00:00<?, ?it/s]"
     ]
    },
    {
     "name": "stdout",
     "output_type": "stream",
     "text": [
      "train-loss: 0.7713753923773765\n",
      "train-accuracy: 0.7501651933458114\n",
      "train-iou: 0.503835051245826\n"
     ]
    },
    {
     "name": "stderr",
     "output_type": "stream",
     "text": [
      "100%|██████████████████████████████████████████████████████████████████████████████████| 23/23 [01:28<00:00,  3.85s/it]"
     ]
    },
    {
     "name": "stdout",
     "output_type": "stream",
     "text": [
      "validation-loss: 0.5799841492072396\n",
      "validation-accuracy: 0.820353300675102\n",
      "validation-iou: 0.5940914818687076\n",
      "Epoch № 11\n"
     ]
    },
    {
     "name": "stderr",
     "output_type": "stream",
     "text": [
      "\n",
      " 13%|██████████▌                                                                      | 13/100 [02:18<15:29, 10.68s/it]\n"
     ]
    },
    {
     "ename": "KeyboardInterrupt",
     "evalue": "",
     "output_type": "error",
     "traceback": [
      "\u001b[1;31m---------------------------------------------------------------------------\u001b[0m",
      "\u001b[1;31mKeyboardInterrupt\u001b[0m                         Traceback (most recent call last)",
      "\u001b[1;32m<ipython-input-172-7a16add74c40>\u001b[0m in \u001b[0;36m<module>\u001b[1;34m\u001b[0m\n\u001b[1;32m----> 1\u001b[1;33m history = train_model(model = model, N_classes = 3, model_name = 'DeepLabV3Plus_resnet',\n\u001b[0m\u001b[0;32m      2\u001b[0m                 \u001b[0moptimizer\u001b[0m \u001b[1;33m=\u001b[0m \u001b[0moptimizer\u001b[0m\u001b[1;33m,\u001b[0m \u001b[0mscheduler\u001b[0m \u001b[1;33m=\u001b[0m \u001b[0mscheduler\u001b[0m\u001b[1;33m,\u001b[0m \u001b[0mloss\u001b[0m \u001b[1;33m=\u001b[0m \u001b[0mloss\u001b[0m\u001b[1;33m,\u001b[0m\u001b[1;33m\u001b[0m\u001b[1;33m\u001b[0m\u001b[0m\n\u001b[0;32m      3\u001b[0m                 train_dl = train_dataloader, val_dl = val_dataloader, num_epochs = 30, device=device)\n",
      "\u001b[1;32m<ipython-input-166-5731bf852483>\u001b[0m in \u001b[0;36mtrain_model\u001b[1;34m(model, N_classes, model_name, optimizer, scheduler, loss, train_dl, val_dl, num_epochs, pixel_accuracy, IoU, patch, device)\u001b[0m\n\u001b[0;32m     73\u001b[0m \u001b[1;33m\u001b[0m\u001b[0m\n\u001b[0;32m     74\u001b[0m                     \u001b[0moptimizer\u001b[0m\u001b[1;33m.\u001b[0m\u001b[0mzero_grad\u001b[0m\u001b[1;33m(\u001b[0m\u001b[1;33m)\u001b[0m\u001b[1;33m\u001b[0m\u001b[1;33m\u001b[0m\u001b[0m\n\u001b[1;32m---> 75\u001b[1;33m                     \u001b[0mpredict\u001b[0m \u001b[1;33m=\u001b[0m \u001b[0mmodel\u001b[0m\u001b[1;33m(\u001b[0m\u001b[0mimg\u001b[0m\u001b[1;33m)\u001b[0m\u001b[1;33m\u001b[0m\u001b[1;33m\u001b[0m\u001b[0m\n\u001b[0m\u001b[0;32m     76\u001b[0m                     \u001b[0mloss_value\u001b[0m \u001b[1;33m=\u001b[0m \u001b[0mloss\u001b[0m\u001b[1;33m(\u001b[0m\u001b[0mpredict\u001b[0m\u001b[1;33m,\u001b[0m \u001b[0mmask\u001b[0m\u001b[1;33m)\u001b[0m\u001b[1;33m\u001b[0m\u001b[1;33m\u001b[0m\u001b[0m\n\u001b[0;32m     77\u001b[0m                     \u001b[0mloss_value\u001b[0m\u001b[1;33m.\u001b[0m\u001b[0mbackward\u001b[0m\u001b[1;33m(\u001b[0m\u001b[1;33m)\u001b[0m\u001b[1;33m\u001b[0m\u001b[1;33m\u001b[0m\u001b[0m\n",
      "\u001b[1;32m~\\anaconda3\\lib\\site-packages\\torch\\nn\\modules\\module.py\u001b[0m in \u001b[0;36m_call_impl\u001b[1;34m(self, *input, **kwargs)\u001b[0m\n\u001b[0;32m   1049\u001b[0m         if not (self._backward_hooks or self._forward_hooks or self._forward_pre_hooks or _global_backward_hooks\n\u001b[0;32m   1050\u001b[0m                 or _global_forward_hooks or _global_forward_pre_hooks):\n\u001b[1;32m-> 1051\u001b[1;33m             \u001b[1;32mreturn\u001b[0m \u001b[0mforward_call\u001b[0m\u001b[1;33m(\u001b[0m\u001b[1;33m*\u001b[0m\u001b[0minput\u001b[0m\u001b[1;33m,\u001b[0m \u001b[1;33m**\u001b[0m\u001b[0mkwargs\u001b[0m\u001b[1;33m)\u001b[0m\u001b[1;33m\u001b[0m\u001b[1;33m\u001b[0m\u001b[0m\n\u001b[0m\u001b[0;32m   1052\u001b[0m         \u001b[1;31m# Do not call functions when jit is used\u001b[0m\u001b[1;33m\u001b[0m\u001b[1;33m\u001b[0m\u001b[1;33m\u001b[0m\u001b[0m\n\u001b[0;32m   1053\u001b[0m         \u001b[0mfull_backward_hooks\u001b[0m\u001b[1;33m,\u001b[0m \u001b[0mnon_full_backward_hooks\u001b[0m \u001b[1;33m=\u001b[0m \u001b[1;33m[\u001b[0m\u001b[1;33m]\u001b[0m\u001b[1;33m,\u001b[0m \u001b[1;33m[\u001b[0m\u001b[1;33m]\u001b[0m\u001b[1;33m\u001b[0m\u001b[1;33m\u001b[0m\u001b[0m\n",
      "\u001b[1;32m~\\anaconda3\\lib\\site-packages\\segmentation_models_pytorch\\base\\model.py\u001b[0m in \u001b[0;36mforward\u001b[1;34m(self, x)\u001b[0m\n\u001b[0;32m     13\u001b[0m     \u001b[1;32mdef\u001b[0m \u001b[0mforward\u001b[0m\u001b[1;33m(\u001b[0m\u001b[0mself\u001b[0m\u001b[1;33m,\u001b[0m \u001b[0mx\u001b[0m\u001b[1;33m)\u001b[0m\u001b[1;33m:\u001b[0m\u001b[1;33m\u001b[0m\u001b[1;33m\u001b[0m\u001b[0m\n\u001b[0;32m     14\u001b[0m         \u001b[1;34m\"\"\"Sequentially pass `x` trough model`s encoder, decoder and heads\"\"\"\u001b[0m\u001b[1;33m\u001b[0m\u001b[1;33m\u001b[0m\u001b[0m\n\u001b[1;32m---> 15\u001b[1;33m         \u001b[0mfeatures\u001b[0m \u001b[1;33m=\u001b[0m \u001b[0mself\u001b[0m\u001b[1;33m.\u001b[0m\u001b[0mencoder\u001b[0m\u001b[1;33m(\u001b[0m\u001b[0mx\u001b[0m\u001b[1;33m)\u001b[0m\u001b[1;33m\u001b[0m\u001b[1;33m\u001b[0m\u001b[0m\n\u001b[0m\u001b[0;32m     16\u001b[0m         \u001b[0mdecoder_output\u001b[0m \u001b[1;33m=\u001b[0m \u001b[0mself\u001b[0m\u001b[1;33m.\u001b[0m\u001b[0mdecoder\u001b[0m\u001b[1;33m(\u001b[0m\u001b[1;33m*\u001b[0m\u001b[0mfeatures\u001b[0m\u001b[1;33m)\u001b[0m\u001b[1;33m\u001b[0m\u001b[1;33m\u001b[0m\u001b[0m\n\u001b[0;32m     17\u001b[0m \u001b[1;33m\u001b[0m\u001b[0m\n",
      "\u001b[1;32m~\\anaconda3\\lib\\site-packages\\torch\\nn\\modules\\module.py\u001b[0m in \u001b[0;36m_call_impl\u001b[1;34m(self, *input, **kwargs)\u001b[0m\n\u001b[0;32m   1049\u001b[0m         if not (self._backward_hooks or self._forward_hooks or self._forward_pre_hooks or _global_backward_hooks\n\u001b[0;32m   1050\u001b[0m                 or _global_forward_hooks or _global_forward_pre_hooks):\n\u001b[1;32m-> 1051\u001b[1;33m             \u001b[1;32mreturn\u001b[0m \u001b[0mforward_call\u001b[0m\u001b[1;33m(\u001b[0m\u001b[1;33m*\u001b[0m\u001b[0minput\u001b[0m\u001b[1;33m,\u001b[0m \u001b[1;33m**\u001b[0m\u001b[0mkwargs\u001b[0m\u001b[1;33m)\u001b[0m\u001b[1;33m\u001b[0m\u001b[1;33m\u001b[0m\u001b[0m\n\u001b[0m\u001b[0;32m   1052\u001b[0m         \u001b[1;31m# Do not call functions when jit is used\u001b[0m\u001b[1;33m\u001b[0m\u001b[1;33m\u001b[0m\u001b[1;33m\u001b[0m\u001b[0m\n\u001b[0;32m   1053\u001b[0m         \u001b[0mfull_backward_hooks\u001b[0m\u001b[1;33m,\u001b[0m \u001b[0mnon_full_backward_hooks\u001b[0m \u001b[1;33m=\u001b[0m \u001b[1;33m[\u001b[0m\u001b[1;33m]\u001b[0m\u001b[1;33m,\u001b[0m \u001b[1;33m[\u001b[0m\u001b[1;33m]\u001b[0m\u001b[1;33m\u001b[0m\u001b[1;33m\u001b[0m\u001b[0m\n",
      "\u001b[1;32m~\\anaconda3\\lib\\site-packages\\segmentation_models_pytorch\\encoders\\resnet.py\u001b[0m in \u001b[0;36mforward\u001b[1;34m(self, x)\u001b[0m\n\u001b[0;32m     60\u001b[0m         \u001b[0mfeatures\u001b[0m \u001b[1;33m=\u001b[0m \u001b[1;33m[\u001b[0m\u001b[1;33m]\u001b[0m\u001b[1;33m\u001b[0m\u001b[1;33m\u001b[0m\u001b[0m\n\u001b[0;32m     61\u001b[0m         \u001b[1;32mfor\u001b[0m \u001b[0mi\u001b[0m \u001b[1;32min\u001b[0m \u001b[0mrange\u001b[0m\u001b[1;33m(\u001b[0m\u001b[0mself\u001b[0m\u001b[1;33m.\u001b[0m\u001b[0m_depth\u001b[0m \u001b[1;33m+\u001b[0m \u001b[1;36m1\u001b[0m\u001b[1;33m)\u001b[0m\u001b[1;33m:\u001b[0m\u001b[1;33m\u001b[0m\u001b[1;33m\u001b[0m\u001b[0m\n\u001b[1;32m---> 62\u001b[1;33m             \u001b[0mx\u001b[0m \u001b[1;33m=\u001b[0m \u001b[0mstages\u001b[0m\u001b[1;33m[\u001b[0m\u001b[0mi\u001b[0m\u001b[1;33m]\u001b[0m\u001b[1;33m(\u001b[0m\u001b[0mx\u001b[0m\u001b[1;33m)\u001b[0m\u001b[1;33m\u001b[0m\u001b[1;33m\u001b[0m\u001b[0m\n\u001b[0m\u001b[0;32m     63\u001b[0m             \u001b[0mfeatures\u001b[0m\u001b[1;33m.\u001b[0m\u001b[0mappend\u001b[0m\u001b[1;33m(\u001b[0m\u001b[0mx\u001b[0m\u001b[1;33m)\u001b[0m\u001b[1;33m\u001b[0m\u001b[1;33m\u001b[0m\u001b[0m\n\u001b[0;32m     64\u001b[0m \u001b[1;33m\u001b[0m\u001b[0m\n",
      "\u001b[1;32m~\\anaconda3\\lib\\site-packages\\torch\\nn\\modules\\module.py\u001b[0m in \u001b[0;36m_call_impl\u001b[1;34m(self, *input, **kwargs)\u001b[0m\n\u001b[0;32m   1049\u001b[0m         if not (self._backward_hooks or self._forward_hooks or self._forward_pre_hooks or _global_backward_hooks\n\u001b[0;32m   1050\u001b[0m                 or _global_forward_hooks or _global_forward_pre_hooks):\n\u001b[1;32m-> 1051\u001b[1;33m             \u001b[1;32mreturn\u001b[0m \u001b[0mforward_call\u001b[0m\u001b[1;33m(\u001b[0m\u001b[1;33m*\u001b[0m\u001b[0minput\u001b[0m\u001b[1;33m,\u001b[0m \u001b[1;33m**\u001b[0m\u001b[0mkwargs\u001b[0m\u001b[1;33m)\u001b[0m\u001b[1;33m\u001b[0m\u001b[1;33m\u001b[0m\u001b[0m\n\u001b[0m\u001b[0;32m   1052\u001b[0m         \u001b[1;31m# Do not call functions when jit is used\u001b[0m\u001b[1;33m\u001b[0m\u001b[1;33m\u001b[0m\u001b[1;33m\u001b[0m\u001b[0m\n\u001b[0;32m   1053\u001b[0m         \u001b[0mfull_backward_hooks\u001b[0m\u001b[1;33m,\u001b[0m \u001b[0mnon_full_backward_hooks\u001b[0m \u001b[1;33m=\u001b[0m \u001b[1;33m[\u001b[0m\u001b[1;33m]\u001b[0m\u001b[1;33m,\u001b[0m \u001b[1;33m[\u001b[0m\u001b[1;33m]\u001b[0m\u001b[1;33m\u001b[0m\u001b[1;33m\u001b[0m\u001b[0m\n",
      "\u001b[1;32m~\\anaconda3\\lib\\site-packages\\torch\\nn\\modules\\container.py\u001b[0m in \u001b[0;36mforward\u001b[1;34m(self, input)\u001b[0m\n\u001b[0;32m    137\u001b[0m     \u001b[1;32mdef\u001b[0m \u001b[0mforward\u001b[0m\u001b[1;33m(\u001b[0m\u001b[0mself\u001b[0m\u001b[1;33m,\u001b[0m \u001b[0minput\u001b[0m\u001b[1;33m)\u001b[0m\u001b[1;33m:\u001b[0m\u001b[1;33m\u001b[0m\u001b[1;33m\u001b[0m\u001b[0m\n\u001b[0;32m    138\u001b[0m         \u001b[1;32mfor\u001b[0m \u001b[0mmodule\u001b[0m \u001b[1;32min\u001b[0m \u001b[0mself\u001b[0m\u001b[1;33m:\u001b[0m\u001b[1;33m\u001b[0m\u001b[1;33m\u001b[0m\u001b[0m\n\u001b[1;32m--> 139\u001b[1;33m             \u001b[0minput\u001b[0m \u001b[1;33m=\u001b[0m \u001b[0mmodule\u001b[0m\u001b[1;33m(\u001b[0m\u001b[0minput\u001b[0m\u001b[1;33m)\u001b[0m\u001b[1;33m\u001b[0m\u001b[1;33m\u001b[0m\u001b[0m\n\u001b[0m\u001b[0;32m    140\u001b[0m         \u001b[1;32mreturn\u001b[0m \u001b[0minput\u001b[0m\u001b[1;33m\u001b[0m\u001b[1;33m\u001b[0m\u001b[0m\n\u001b[0;32m    141\u001b[0m \u001b[1;33m\u001b[0m\u001b[0m\n",
      "\u001b[1;32m~\\anaconda3\\lib\\site-packages\\torch\\nn\\modules\\module.py\u001b[0m in \u001b[0;36m_call_impl\u001b[1;34m(self, *input, **kwargs)\u001b[0m\n\u001b[0;32m   1049\u001b[0m         if not (self._backward_hooks or self._forward_hooks or self._forward_pre_hooks or _global_backward_hooks\n\u001b[0;32m   1050\u001b[0m                 or _global_forward_hooks or _global_forward_pre_hooks):\n\u001b[1;32m-> 1051\u001b[1;33m             \u001b[1;32mreturn\u001b[0m \u001b[0mforward_call\u001b[0m\u001b[1;33m(\u001b[0m\u001b[1;33m*\u001b[0m\u001b[0minput\u001b[0m\u001b[1;33m,\u001b[0m \u001b[1;33m**\u001b[0m\u001b[0mkwargs\u001b[0m\u001b[1;33m)\u001b[0m\u001b[1;33m\u001b[0m\u001b[1;33m\u001b[0m\u001b[0m\n\u001b[0m\u001b[0;32m   1052\u001b[0m         \u001b[1;31m# Do not call functions when jit is used\u001b[0m\u001b[1;33m\u001b[0m\u001b[1;33m\u001b[0m\u001b[1;33m\u001b[0m\u001b[0m\n\u001b[0;32m   1053\u001b[0m         \u001b[0mfull_backward_hooks\u001b[0m\u001b[1;33m,\u001b[0m \u001b[0mnon_full_backward_hooks\u001b[0m \u001b[1;33m=\u001b[0m \u001b[1;33m[\u001b[0m\u001b[1;33m]\u001b[0m\u001b[1;33m,\u001b[0m \u001b[1;33m[\u001b[0m\u001b[1;33m]\u001b[0m\u001b[1;33m\u001b[0m\u001b[1;33m\u001b[0m\u001b[0m\n",
      "\u001b[1;32m~\\anaconda3\\lib\\site-packages\\torch\\nn\\modules\\container.py\u001b[0m in \u001b[0;36mforward\u001b[1;34m(self, input)\u001b[0m\n\u001b[0;32m    137\u001b[0m     \u001b[1;32mdef\u001b[0m \u001b[0mforward\u001b[0m\u001b[1;33m(\u001b[0m\u001b[0mself\u001b[0m\u001b[1;33m,\u001b[0m \u001b[0minput\u001b[0m\u001b[1;33m)\u001b[0m\u001b[1;33m:\u001b[0m\u001b[1;33m\u001b[0m\u001b[1;33m\u001b[0m\u001b[0m\n\u001b[0;32m    138\u001b[0m         \u001b[1;32mfor\u001b[0m \u001b[0mmodule\u001b[0m \u001b[1;32min\u001b[0m \u001b[0mself\u001b[0m\u001b[1;33m:\u001b[0m\u001b[1;33m\u001b[0m\u001b[1;33m\u001b[0m\u001b[0m\n\u001b[1;32m--> 139\u001b[1;33m             \u001b[0minput\u001b[0m \u001b[1;33m=\u001b[0m \u001b[0mmodule\u001b[0m\u001b[1;33m(\u001b[0m\u001b[0minput\u001b[0m\u001b[1;33m)\u001b[0m\u001b[1;33m\u001b[0m\u001b[1;33m\u001b[0m\u001b[0m\n\u001b[0m\u001b[0;32m    140\u001b[0m         \u001b[1;32mreturn\u001b[0m \u001b[0minput\u001b[0m\u001b[1;33m\u001b[0m\u001b[1;33m\u001b[0m\u001b[0m\n\u001b[0;32m    141\u001b[0m \u001b[1;33m\u001b[0m\u001b[0m\n",
      "\u001b[1;32m~\\anaconda3\\lib\\site-packages\\torch\\nn\\modules\\module.py\u001b[0m in \u001b[0;36m_call_impl\u001b[1;34m(self, *input, **kwargs)\u001b[0m\n\u001b[0;32m   1049\u001b[0m         if not (self._backward_hooks or self._forward_hooks or self._forward_pre_hooks or _global_backward_hooks\n\u001b[0;32m   1050\u001b[0m                 or _global_forward_hooks or _global_forward_pre_hooks):\n\u001b[1;32m-> 1051\u001b[1;33m             \u001b[1;32mreturn\u001b[0m \u001b[0mforward_call\u001b[0m\u001b[1;33m(\u001b[0m\u001b[1;33m*\u001b[0m\u001b[0minput\u001b[0m\u001b[1;33m,\u001b[0m \u001b[1;33m**\u001b[0m\u001b[0mkwargs\u001b[0m\u001b[1;33m)\u001b[0m\u001b[1;33m\u001b[0m\u001b[1;33m\u001b[0m\u001b[0m\n\u001b[0m\u001b[0;32m   1052\u001b[0m         \u001b[1;31m# Do not call functions when jit is used\u001b[0m\u001b[1;33m\u001b[0m\u001b[1;33m\u001b[0m\u001b[1;33m\u001b[0m\u001b[0m\n\u001b[0;32m   1053\u001b[0m         \u001b[0mfull_backward_hooks\u001b[0m\u001b[1;33m,\u001b[0m \u001b[0mnon_full_backward_hooks\u001b[0m \u001b[1;33m=\u001b[0m \u001b[1;33m[\u001b[0m\u001b[1;33m]\u001b[0m\u001b[1;33m,\u001b[0m \u001b[1;33m[\u001b[0m\u001b[1;33m]\u001b[0m\u001b[1;33m\u001b[0m\u001b[1;33m\u001b[0m\u001b[0m\n",
      "\u001b[1;32m~\\anaconda3\\lib\\site-packages\\torchvision\\models\\resnet.py\u001b[0m in \u001b[0;36mforward\u001b[1;34m(self, x)\u001b[0m\n\u001b[0;32m     68\u001b[0m         \u001b[0midentity\u001b[0m \u001b[1;33m=\u001b[0m \u001b[0mx\u001b[0m\u001b[1;33m\u001b[0m\u001b[1;33m\u001b[0m\u001b[0m\n\u001b[0;32m     69\u001b[0m \u001b[1;33m\u001b[0m\u001b[0m\n\u001b[1;32m---> 70\u001b[1;33m         \u001b[0mout\u001b[0m \u001b[1;33m=\u001b[0m \u001b[0mself\u001b[0m\u001b[1;33m.\u001b[0m\u001b[0mconv1\u001b[0m\u001b[1;33m(\u001b[0m\u001b[0mx\u001b[0m\u001b[1;33m)\u001b[0m\u001b[1;33m\u001b[0m\u001b[1;33m\u001b[0m\u001b[0m\n\u001b[0m\u001b[0;32m     71\u001b[0m         \u001b[0mout\u001b[0m \u001b[1;33m=\u001b[0m \u001b[0mself\u001b[0m\u001b[1;33m.\u001b[0m\u001b[0mbn1\u001b[0m\u001b[1;33m(\u001b[0m\u001b[0mout\u001b[0m\u001b[1;33m)\u001b[0m\u001b[1;33m\u001b[0m\u001b[1;33m\u001b[0m\u001b[0m\n\u001b[0;32m     72\u001b[0m         \u001b[0mout\u001b[0m \u001b[1;33m=\u001b[0m \u001b[0mself\u001b[0m\u001b[1;33m.\u001b[0m\u001b[0mrelu\u001b[0m\u001b[1;33m(\u001b[0m\u001b[0mout\u001b[0m\u001b[1;33m)\u001b[0m\u001b[1;33m\u001b[0m\u001b[1;33m\u001b[0m\u001b[0m\n",
      "\u001b[1;32m~\\anaconda3\\lib\\site-packages\\torch\\nn\\modules\\module.py\u001b[0m in \u001b[0;36m_call_impl\u001b[1;34m(self, *input, **kwargs)\u001b[0m\n\u001b[0;32m   1049\u001b[0m         if not (self._backward_hooks or self._forward_hooks or self._forward_pre_hooks or _global_backward_hooks\n\u001b[0;32m   1050\u001b[0m                 or _global_forward_hooks or _global_forward_pre_hooks):\n\u001b[1;32m-> 1051\u001b[1;33m             \u001b[1;32mreturn\u001b[0m \u001b[0mforward_call\u001b[0m\u001b[1;33m(\u001b[0m\u001b[1;33m*\u001b[0m\u001b[0minput\u001b[0m\u001b[1;33m,\u001b[0m \u001b[1;33m**\u001b[0m\u001b[0mkwargs\u001b[0m\u001b[1;33m)\u001b[0m\u001b[1;33m\u001b[0m\u001b[1;33m\u001b[0m\u001b[0m\n\u001b[0m\u001b[0;32m   1052\u001b[0m         \u001b[1;31m# Do not call functions when jit is used\u001b[0m\u001b[1;33m\u001b[0m\u001b[1;33m\u001b[0m\u001b[1;33m\u001b[0m\u001b[0m\n\u001b[0;32m   1053\u001b[0m         \u001b[0mfull_backward_hooks\u001b[0m\u001b[1;33m,\u001b[0m \u001b[0mnon_full_backward_hooks\u001b[0m \u001b[1;33m=\u001b[0m \u001b[1;33m[\u001b[0m\u001b[1;33m]\u001b[0m\u001b[1;33m,\u001b[0m \u001b[1;33m[\u001b[0m\u001b[1;33m]\u001b[0m\u001b[1;33m\u001b[0m\u001b[1;33m\u001b[0m\u001b[0m\n",
      "\u001b[1;32m~\\anaconda3\\lib\\site-packages\\torch\\nn\\modules\\conv.py\u001b[0m in \u001b[0;36mforward\u001b[1;34m(self, input)\u001b[0m\n\u001b[0;32m    441\u001b[0m \u001b[1;33m\u001b[0m\u001b[0m\n\u001b[0;32m    442\u001b[0m     \u001b[1;32mdef\u001b[0m \u001b[0mforward\u001b[0m\u001b[1;33m(\u001b[0m\u001b[0mself\u001b[0m\u001b[1;33m,\u001b[0m \u001b[0minput\u001b[0m\u001b[1;33m:\u001b[0m \u001b[0mTensor\u001b[0m\u001b[1;33m)\u001b[0m \u001b[1;33m->\u001b[0m \u001b[0mTensor\u001b[0m\u001b[1;33m:\u001b[0m\u001b[1;33m\u001b[0m\u001b[1;33m\u001b[0m\u001b[0m\n\u001b[1;32m--> 443\u001b[1;33m         \u001b[1;32mreturn\u001b[0m \u001b[0mself\u001b[0m\u001b[1;33m.\u001b[0m\u001b[0m_conv_forward\u001b[0m\u001b[1;33m(\u001b[0m\u001b[0minput\u001b[0m\u001b[1;33m,\u001b[0m \u001b[0mself\u001b[0m\u001b[1;33m.\u001b[0m\u001b[0mweight\u001b[0m\u001b[1;33m,\u001b[0m \u001b[0mself\u001b[0m\u001b[1;33m.\u001b[0m\u001b[0mbias\u001b[0m\u001b[1;33m)\u001b[0m\u001b[1;33m\u001b[0m\u001b[1;33m\u001b[0m\u001b[0m\n\u001b[0m\u001b[0;32m    444\u001b[0m \u001b[1;33m\u001b[0m\u001b[0m\n\u001b[0;32m    445\u001b[0m \u001b[1;32mclass\u001b[0m \u001b[0mConv3d\u001b[0m\u001b[1;33m(\u001b[0m\u001b[0m_ConvNd\u001b[0m\u001b[1;33m)\u001b[0m\u001b[1;33m:\u001b[0m\u001b[1;33m\u001b[0m\u001b[1;33m\u001b[0m\u001b[0m\n",
      "\u001b[1;32m~\\anaconda3\\lib\\site-packages\\torch\\nn\\modules\\conv.py\u001b[0m in \u001b[0;36m_conv_forward\u001b[1;34m(self, input, weight, bias)\u001b[0m\n\u001b[0;32m    437\u001b[0m                             \u001b[0mweight\u001b[0m\u001b[1;33m,\u001b[0m \u001b[0mbias\u001b[0m\u001b[1;33m,\u001b[0m \u001b[0mself\u001b[0m\u001b[1;33m.\u001b[0m\u001b[0mstride\u001b[0m\u001b[1;33m,\u001b[0m\u001b[1;33m\u001b[0m\u001b[1;33m\u001b[0m\u001b[0m\n\u001b[0;32m    438\u001b[0m                             _pair(0), self.dilation, self.groups)\n\u001b[1;32m--> 439\u001b[1;33m         return F.conv2d(input, weight, bias, self.stride,\n\u001b[0m\u001b[0;32m    440\u001b[0m                         self.padding, self.dilation, self.groups)\n\u001b[0;32m    441\u001b[0m \u001b[1;33m\u001b[0m\u001b[0m\n",
      "\u001b[1;31mKeyboardInterrupt\u001b[0m: "
     ]
    }
   ],
   "source": [
    "history = train_model(model = model, N_classes = 3, model_name = 'DeepLabV3Plus_resnet',\n",
    "                optimizer = optimizer, scheduler = scheduler, loss = loss,\n",
    "                train_dl = train_dataloader, val_dl = val_dataloader, num_epochs = 30, device=device)"
   ]
  },
  {
   "cell_type": "code",
   "execution_count": 173,
   "id": "ac993119",
   "metadata": {},
   "outputs": [],
   "source": [
    "best_model_deeplab = torch.load('DeepLabV3Plus_resnet_0.6500653609969054iou_0.8519307896710823acc.pth')"
   ]
  },
  {
   "cell_type": "code",
   "execution_count": 232,
   "id": "30fdbcd1",
   "metadata": {},
   "outputs": [],
   "source": [
    "def model_predict(model,img, orig_mask):\n",
    "    \n",
    "    pred = model.predict(img.unsqueeze(0))\n",
    "    print(f'accuracy = {pixel_accuracy(pred, orig_mask)}')\n",
    "    print(f'iou = {IoU(pred, orig_mask, 3)}')\n",
    "    \n",
    "    pred = (pred.argmax(dim=1)).squeeze()\n",
    "\n",
    "    ax1 = plt.subplot(121)\n",
    "    plt.imshow(orig_mask)\n",
    "    ax1.set_title('ground truth')\n",
    "    ax2 = plt.subplot(122)\n",
    "    plt.imshow(pred)\n",
    "    ax2.set_title('predict')"
   ]
  },
  {
   "cell_type": "code",
   "execution_count": 240,
   "id": "03d60418",
   "metadata": {},
   "outputs": [
    {
     "name": "stdout",
     "output_type": "stream",
     "text": [
      "accuracy = 0.980560302734375\n",
      "iou = 0.6775504766668865\n"
     ]
    },
    {
     "data": {
      "image/png": "[encoded data removed]",
      "text/plain": [
       "<Figure size 432x288 with 2 Axes>"
      ]
     },
     "metadata": {
      "needs_background": "light"
     },
     "output_type": "display_data"
    }
   ],
   "source": [
    "img, mask = test_set[27]\n",
    "model_predict(best_model_deeplab, img, mask)"
   ]
  },
  {
   "cell_type": "code",
   "execution_count": 241,
   "id": "63026c10",
   "metadata": {},
   "outputs": [
    {
     "name": "stdout",
     "output_type": "stream",
     "text": [
      "accuracy = 0.9906387329101562\n",
      "iou = 0.49531936782393515\n"
     ]
    },
    {
     "data": {
      "image/png": "[encoded data removed]",
      "text/plain": [
       "<Figure size 432x288 with 2 Axes>"
      ]
     },
     "metadata": {
      "needs_background": "light"
     },
     "output_type": "display_data"
    }
   ],
   "source": [
    "img, mask = test_set[29]\n",
    "model_predict(best_model_deeplab, img, mask)"
   ]
  },
  {
   "cell_type": "code",
   "execution_count": 248,
   "id": "b6715e2b",
   "metadata": {},
   "outputs": [
    {
     "name": "stdout",
     "output_type": "stream",
     "text": [
      "accuracy = 0.9736226399739584\n",
      "iou = 0.487329365711127\n"
     ]
    },
    {
     "data": {
      "image/png": "[encoded data removed]",
      "text/plain": [
       "<Figure size 432x288 with 2 Axes>"
      ]
     },
     "metadata": {
      "needs_background": "light"
     },
     "output_type": "display_data"
    }
   ],
   "source": [
    "img, mask = test_set[30]\n",
    "model_predict(best_model_deeplab, img, mask)"
   ]
  },
  {
   "cell_type": "code",
   "execution_count": null,
   "id": "a0a37bf9",
   "metadata": {},
   "outputs": [],
   "source": []
  }
 ],
 "metadata": {
  "kernelspec": {
   "display_name": "Python 3",
   "language": "python",
   "name": "python3"
  },
  "language_info": {
   "codemirror_mode": {
    "name": "ipython",
    "version": 3
   },
   "file_extension": ".py",
   "mimetype": "text/x-python",
   "name": "python",
   "nbconvert_exporter": "python",
   "pygments_lexer": "ipython3",
   "version": "3.8.8"
  },
  "toc": {
   "base_numbering": 1,
   "nav_menu": {},
   "number_sections": true,
   "sideBar": true,
   "skip_h1_title": false,
   "title_cell": "Table of Contents",
   "title_sidebar": "Contents",
   "toc_cell": false,
   "toc_position": {},
   "toc_section_display": true,
   "toc_window_display": false
  }
 },
 "nbformat": 4,
 "nbformat_minor": 5
}
