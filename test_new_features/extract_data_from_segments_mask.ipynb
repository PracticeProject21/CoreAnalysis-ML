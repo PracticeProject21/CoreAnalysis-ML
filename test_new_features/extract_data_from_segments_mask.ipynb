{
 "cells": [
  {
   "cell_type": "code",
   "execution_count": 2,
   "id": "9995d75f",
   "metadata": {},
   "outputs": [],
   "source": [
    "import numpy as np\n",
    "import torch\n",
    "from PIL import Image"
   ]
  },
  {
   "cell_type": "code",
   "execution_count": 26,
   "id": "c525c52c",
   "metadata": {},
   "outputs": [
    {
     "data": {
      "text/plain": [
       "0.81"
      ]
     },
     "execution_count": 26,
     "metadata": {},
     "output_type": "execute_result"
    }
   ],
   "source": [
    "A = np.array([[0,1,2], [2,0,0], [1,1,0,]])"
   ]
  },
  {
   "cell_type": "code",
   "execution_count": 28,
   "id": "8452ecec",
   "metadata": {},
   "outputs": [],
   "source": [
    "def text(predict_mask, label):\n",
    "    # mask in two-dimension numpy array ONLY WHICH HEIGHT IS MORE THAN 100 pixels\n",
    "    # label is 'ultra' or 'day'\n",
    "    result = []\n",
    "    if label == 'ultra':\n",
    "        \n",
    "        classes = ['Отсутствует', 'Насыщенное', 'Карбонатное']\n",
    "        # в матрицах числами 0 обозначаены области, где свечение отсутствует\n",
    "        #            числами 1 обозначаены области, где свечение насыщенное\n",
    "        #            числами 2 обозначаены области, где свечение карбонатное\n",
    "        \n",
    "        h, w = predict_mask.shape\n",
    "        one_percent = h // 100  # будем рассматривать области, соизмеримые с 1% от высоты фото\n",
    "            \n",
    "        last_classname = '' # необходим для того, чтобы разграничивать области между собой\n",
    "        for i in range(99):\n",
    "            i_part_of_mask = predict_mask[(i * one_percent) : ((i + 1) * one_percent)][:];\n",
    "            # достаем i-тый прямоугольник размером one_percent_of_h * w из маски\n",
    "            i_part_of_mask = i_part_of_mask.flatten()\n",
    "            # вытягиваем его в одномерный вектор\n",
    "            \n",
    "            index_of_main_class = np.argmax(np.bincount(i_part_of_mask))\n",
    "            # высчитываем преобладающий класс (0, 1 или 2)\n",
    "            class_name = classes[index_of_main_class]\n",
    "            # достаем наименование класса из заданного массива классов\n",
    "            \n",
    "            if class_name == last_class_name:\n",
    "                continue\n",
    "            else:\n",
    "                tuple_result = (i / 100, class_name)\n",
    "                result.append(tuple_result)\n",
    "                last_class_name = class_name\n",
    "        \n",
    "        last_part_of_mask = predict_mask[(99 * one_percent):][:]\n",
    "        # последний прямоугольник может быть чуть больше или чуть меньше, т.к. не все h нацело делятся на 100\n",
    "        last_part_of_mask = last_part_of_mask.flatten()\n",
    "        index_of_main_class = np.argmax(np.bincount(last_part_of_mask))\n",
    "        class_name = classes[index_of_main_class]\n",
    "        if class_name == last_class_name:\n",
    "            return result\n",
    "        else:\n",
    "            tuple_result = (0.99, class_name)\n",
    "            result.append(tuple_result)\n",
    "            return result\n",
    "    \n",
    "    \n",
    "    \n",
    "    elif label == 'day':\n",
    "        pass"
   ]
  },
  {
   "cell_type": "code",
   "execution_count": null,
   "id": "fc12cb90",
   "metadata": {},
   "outputs": [],
   "source": []
  }
 ],
 "metadata": {
  "kernelspec": {
   "display_name": "Python 3",
   "language": "python",
   "name": "python3"
  },
  "language_info": {
   "codemirror_mode": {
    "name": "ipython",
    "version": 3
   },
   "file_extension": ".py",
   "mimetype": "text/x-python",
   "name": "python",
   "nbconvert_exporter": "python",
   "pygments_lexer": "ipython3",
   "version": "3.8.8"
  },
  "toc": {
   "base_numbering": 1,
   "nav_menu": {},
   "number_sections": true,
   "sideBar": true,
   "skip_h1_title": false,
   "title_cell": "Table of Contents",
   "title_sidebar": "Contents",
   "toc_cell": false,
   "toc_position": {},
   "toc_section_display": true,
   "toc_window_display": false
  }
 },
 "nbformat": 4,
 "nbformat_minor": 5
}
