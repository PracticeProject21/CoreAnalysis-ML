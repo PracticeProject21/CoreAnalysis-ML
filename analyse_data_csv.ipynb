{
 "cells": [
  {
   "cell_type": "code",
   "execution_count": 1,
   "id": "76bfe760",
   "metadata": {},
   "outputs": [],
   "source": [
    "%matplotlib inline\n",
    "import pandas as pd\n",
    "import numpy as np\n",
    "import matplotlib.pyplot as plt"
   ]
  },
  {
   "cell_type": "code",
   "execution_count": 4,
   "id": "3852370f",
   "metadata": {},
   "outputs": [
    {
     "data": {
      "text/html": [
       "<div>\n",
       "<style scoped>\n",
       "    .dataframe tbody tr th:only-of-type {\n",
       "        vertical-align: middle;\n",
       "    }\n",
       "\n",
       "    .dataframe tbody tr th {\n",
       "        vertical-align: top;\n",
       "    }\n",
       "\n",
       "    .dataframe thead th {\n",
       "        text-align: right;\n",
       "    }\n",
       "</style>\n",
       "<table border=\"1\" class=\"dataframe\">\n",
       "  <thead>\n",
       "    <tr style=\"text-align: right;\">\n",
       "      <th></th>\n",
       "      <th>task_id</th>\n",
       "      <th>photo_id</th>\n",
       "      <th>photo_type</th>\n",
       "      <th>segment_num</th>\n",
       "      <th>segment_type</th>\n",
       "      <th>segment_value</th>\n",
       "    </tr>\n",
       "  </thead>\n",
       "  <tbody>\n",
       "    <tr>\n",
       "      <th>0</th>\n",
       "      <td>c6a24494_7931_4ca9_a148_f1fd9785b607</td>\n",
       "      <td>1012473</td>\n",
       "      <td>УФ</td>\n",
       "      <td>0</td>\n",
       "      <td>Свечение</td>\n",
       "      <td>Насыщенное</td>\n",
       "    </tr>\n",
       "    <tr>\n",
       "      <th>1</th>\n",
       "      <td>c6a24494_7931_4ca9_a148_f1fd9785b607</td>\n",
       "      <td>1012473</td>\n",
       "      <td>УФ</td>\n",
       "      <td>1</td>\n",
       "      <td>Свечение</td>\n",
       "      <td>Отсутствует</td>\n",
       "    </tr>\n",
       "    <tr>\n",
       "      <th>2</th>\n",
       "      <td>cfb8e7b2_7c98_4bd4_897d_0e5e95801bc9</td>\n",
       "      <td>1016625</td>\n",
       "      <td>УФ</td>\n",
       "      <td>0</td>\n",
       "      <td>Свечение</td>\n",
       "      <td>Карбонатное</td>\n",
       "    </tr>\n",
       "    <tr>\n",
       "      <th>3</th>\n",
       "      <td>a9d8f546_9046_46ce_ba17_abda344a0980</td>\n",
       "      <td>1013361</td>\n",
       "      <td>УФ</td>\n",
       "      <td>0</td>\n",
       "      <td>Свечение</td>\n",
       "      <td>Карбонатное</td>\n",
       "    </tr>\n",
       "    <tr>\n",
       "      <th>4</th>\n",
       "      <td>eb09a8aa_6c77_41de_8489_f5a390c789e8</td>\n",
       "      <td>1016727</td>\n",
       "      <td>УФ</td>\n",
       "      <td>0</td>\n",
       "      <td>Свечение</td>\n",
       "      <td>Карбонатное</td>\n",
       "    </tr>\n",
       "    <tr>\n",
       "      <th>...</th>\n",
       "      <td>...</td>\n",
       "      <td>...</td>\n",
       "      <td>...</td>\n",
       "      <td>...</td>\n",
       "      <td>...</td>\n",
       "      <td>...</td>\n",
       "    </tr>\n",
       "    <tr>\n",
       "      <th>14910</th>\n",
       "      <td>de63ac27_e98e_459a_9672_b07415228a50</td>\n",
       "      <td>1009408</td>\n",
       "      <td>ДС</td>\n",
       "      <td>6</td>\n",
       "      <td>Разрушенность</td>\n",
       "      <td>Разлом</td>\n",
       "    </tr>\n",
       "    <tr>\n",
       "      <th>14911</th>\n",
       "      <td>de63ac27_e98e_459a_9672_b07415228a50</td>\n",
       "      <td>1009408</td>\n",
       "      <td>ДС</td>\n",
       "      <td>7</td>\n",
       "      <td>Разрушенность</td>\n",
       "      <td>Разлом</td>\n",
       "    </tr>\n",
       "    <tr>\n",
       "      <th>14912</th>\n",
       "      <td>de63ac27_e98e_459a_9672_b07415228a50</td>\n",
       "      <td>1009408</td>\n",
       "      <td>ДС</td>\n",
       "      <td>8</td>\n",
       "      <td>Разрушенность</td>\n",
       "      <td>Разлом</td>\n",
       "    </tr>\n",
       "    <tr>\n",
       "      <th>14913</th>\n",
       "      <td>de63ac27_e98e_459a_9672_b07415228a50</td>\n",
       "      <td>1009408</td>\n",
       "      <td>ДС</td>\n",
       "      <td>9</td>\n",
       "      <td>Разрушенность</td>\n",
       "      <td>Разлом</td>\n",
       "    </tr>\n",
       "    <tr>\n",
       "      <th>14914</th>\n",
       "      <td>f5e57301_6ffc_4f3b_8c8f_b311478b58c3</td>\n",
       "      <td>1004015</td>\n",
       "      <td>УФ</td>\n",
       "      <td>0</td>\n",
       "      <td>Свечение</td>\n",
       "      <td>Карбонатное</td>\n",
       "    </tr>\n",
       "  </tbody>\n",
       "</table>\n",
       "<p>14915 rows × 6 columns</p>\n",
       "</div>"
      ],
      "text/plain": [
       "                                    task_id  photo_id photo_type  segment_num  \\\n",
       "0      c6a24494_7931_4ca9_a148_f1fd9785b607   1012473         УФ            0   \n",
       "1      c6a24494_7931_4ca9_a148_f1fd9785b607   1012473         УФ            1   \n",
       "2      cfb8e7b2_7c98_4bd4_897d_0e5e95801bc9   1016625         УФ            0   \n",
       "3      a9d8f546_9046_46ce_ba17_abda344a0980   1013361         УФ            0   \n",
       "4      eb09a8aa_6c77_41de_8489_f5a390c789e8   1016727         УФ            0   \n",
       "...                                     ...       ...        ...          ...   \n",
       "14910  de63ac27_e98e_459a_9672_b07415228a50   1009408         ДС            6   \n",
       "14911  de63ac27_e98e_459a_9672_b07415228a50   1009408         ДС            7   \n",
       "14912  de63ac27_e98e_459a_9672_b07415228a50   1009408         ДС            8   \n",
       "14913  de63ac27_e98e_459a_9672_b07415228a50   1009408         ДС            9   \n",
       "14914  f5e57301_6ffc_4f3b_8c8f_b311478b58c3   1004015         УФ            0   \n",
       "\n",
       "        segment_type segment_value  \n",
       "0           Свечение    Насыщенное  \n",
       "1           Свечение   Отсутствует  \n",
       "2           Свечение   Карбонатное  \n",
       "3           Свечение   Карбонатное  \n",
       "4           Свечение   Карбонатное  \n",
       "...              ...           ...  \n",
       "14910  Разрушенность        Разлом  \n",
       "14911  Разрушенность        Разлом  \n",
       "14912  Разрушенность        Разлом  \n",
       "14913  Разрушенность        Разлом  \n",
       "14914       Свечение   Карбонатное  \n",
       "\n",
       "[14915 rows x 6 columns]"
      ]
     },
     "metadata": {},
     "output_type": "display_data"
    }
   ],
   "source": [
    "data = pd.read_csv('data.csv')\n",
    "display(data)"
   ]
  },
  {
   "cell_type": "markdown",
   "id": "ba6c623d",
   "metadata": {},
   "source": [
    "## Краткое содержание\n",
    "* task_id - используется для сопоставления сегментированных участков (matrixes) и описаний экспертов(extra)  \n",
    "* photo_id - каждая фотография разбита на определенные участки, каждый из которых характеризуется чем-либо (см. \"Типы признаков сегментированных участков\")\n",
    "* segment_type - это как раз ЗНАЧЕНИЕ ПРИЗНАКА на определенном сегменте. Каждый сегмент каждого изображения помечен номером(segment_num)"
   ]
  },
  {
   "cell_type": "markdown",
   "id": "7fca9421",
   "metadata": {},
   "source": [
    "### Типы признаков сегментированных участков"
   ]
  },
  {
   "cell_type": "code",
   "execution_count": 5,
   "id": "11c2d027",
   "metadata": {},
   "outputs": [
    {
     "data": {
      "text/plain": [
       "array(['Свечение', 'Разрушенность', 'Порода'], dtype=object)"
      ]
     },
     "execution_count": 5,
     "metadata": {},
     "output_type": "execute_result"
    }
   ],
   "source": [
    "data['segment_type'].unique()"
   ]
  },
  {
   "cell_type": "markdown",
   "id": "297ad33b",
   "metadata": {},
   "source": [
    "#### Типы пород"
   ]
  },
  {
   "cell_type": "code",
   "execution_count": 6,
   "id": "c45d8290",
   "metadata": {},
   "outputs": [
    {
     "data": {
      "text/plain": [
       "array(['Аргиллит', 'Переслаивание пород', 'Алевролит глинистый',\n",
       "       'Песчаник', 'Глинисто-кремнистая порода', 'Песчаник глинистый',\n",
       "       'Уголь', 'Аргиллит углистый', 'Алевролит', 'Карбонатная порода',\n",
       "       'Известняк', 'Глина аргиллитоподобная'], dtype=object)"
      ]
     },
     "execution_count": 6,
     "metadata": {},
     "output_type": "execute_result"
    }
   ],
   "source": [
    "data[data['segment_type']=='Порода']['segment_value'].unique()"
   ]
  },
  {
   "cell_type": "markdown",
   "id": "e473147e",
   "metadata": {},
   "source": [
    "#### Типы свечения"
   ]
  },
  {
   "cell_type": "code",
   "execution_count": 7,
   "id": "b34e4737",
   "metadata": {},
   "outputs": [
    {
     "data": {
      "text/plain": [
       "array(['Насыщенное', 'Отсутствует', 'Карбонатное'], dtype=object)"
      ]
     },
     "execution_count": 7,
     "metadata": {},
     "output_type": "execute_result"
    }
   ],
   "source": [
    "data[data['segment_type']=='Свечение']['segment_value'].unique()"
   ]
  },
  {
   "cell_type": "markdown",
   "id": "63262516",
   "metadata": {},
   "source": [
    "#### Типы разрушенности"
   ]
  },
  {
   "cell_type": "code",
   "execution_count": 8,
   "id": "c25f2f9a",
   "metadata": {},
   "outputs": [
    {
     "data": {
      "text/plain": [
       "array(['Разлом', 'Проба'], dtype=object)"
      ]
     },
     "execution_count": 8,
     "metadata": {},
     "output_type": "execute_result"
    }
   ],
   "source": [
    "data[data['segment_type']=='Разрушенность']['segment_value'].unique()"
   ]
  },
  {
   "cell_type": "code",
   "execution_count": null,
   "id": "52d0120b",
   "metadata": {},
   "outputs": [],
   "source": []
  },
  {
   "cell_type": "code",
   "execution_count": 11,
   "id": "e3093ece",
   "metadata": {},
   "outputs": [
    {
     "name": "stdout",
     "output_type": "stream",
     "text": [
      "<class 'pandas.core.frame.DataFrame'>\n",
      "RangeIndex: 14915 entries, 0 to 14914\n",
      "Data columns (total 6 columns):\n",
      " #   Column         Non-Null Count  Dtype \n",
      "---  ------         --------------  ----- \n",
      " 0   task_id        14915 non-null  object\n",
      " 1   photo_id       14915 non-null  int64 \n",
      " 2   photo_type     14915 non-null  object\n",
      " 3   segment_num    14915 non-null  int64 \n",
      " 4   segment_type   14915 non-null  object\n",
      " 5   segment_value  14915 non-null  object\n",
      "dtypes: int64(2), object(4)\n",
      "memory usage: 699.3+ KB\n"
     ]
    }
   ],
   "source": [
    "data.info()"
   ]
  },
  {
   "cell_type": "markdown",
   "id": "902c992c",
   "metadata": {},
   "source": [
    "Пустых ячеек в данных нет"
   ]
  },
  {
   "cell_type": "markdown",
   "id": "1e9a84fa",
   "metadata": {},
   "source": [
    "### Количество записей (примеров) для каждого признака"
   ]
  },
  {
   "cell_type": "code",
   "execution_count": 31,
   "id": "3ff4e109",
   "metadata": {},
   "outputs": [
    {
     "data": {
      "text/html": [
       "<div>\n",
       "<style scoped>\n",
       "    .dataframe tbody tr th:only-of-type {\n",
       "        vertical-align: middle;\n",
       "    }\n",
       "\n",
       "    .dataframe tbody tr th {\n",
       "        vertical-align: top;\n",
       "    }\n",
       "\n",
       "    .dataframe thead th {\n",
       "        text-align: right;\n",
       "    }\n",
       "</style>\n",
       "<table border=\"1\" class=\"dataframe\">\n",
       "  <thead>\n",
       "    <tr style=\"text-align: right;\">\n",
       "      <th></th>\n",
       "      <th>count</th>\n",
       "    </tr>\n",
       "    <tr>\n",
       "      <th>segment_type</th>\n",
       "      <th></th>\n",
       "    </tr>\n",
       "  </thead>\n",
       "  <tbody>\n",
       "    <tr>\n",
       "      <th>Порода</th>\n",
       "      <td>3161</td>\n",
       "    </tr>\n",
       "    <tr>\n",
       "      <th>Разрушенность</th>\n",
       "      <td>9949</td>\n",
       "    </tr>\n",
       "    <tr>\n",
       "      <th>Свечение</th>\n",
       "      <td>1805</td>\n",
       "    </tr>\n",
       "  </tbody>\n",
       "</table>\n",
       "</div>"
      ],
      "text/plain": [
       "               count\n",
       "segment_type        \n",
       "Порода          3161\n",
       "Разрушенность   9949\n",
       "Свечение        1805"
      ]
     },
     "execution_count": 31,
     "metadata": {},
     "output_type": "execute_result"
    }
   ],
   "source": [
    "data[['segment_type','photo_id']].groupby('segment_type').count().rename(columns={'photo_id':'count'})"
   ]
  },
  {
   "cell_type": "code",
   "execution_count": null,
   "id": "4d5977a3",
   "metadata": {},
   "outputs": [],
   "source": []
  }
 ],
 "metadata": {
  "kernelspec": {
   "display_name": "Python 3",
   "language": "python",
   "name": "python3"
  },
  "language_info": {
   "codemirror_mode": {
    "name": "ipython",
    "version": 3
   },
   "file_extension": ".py",
   "mimetype": "text/x-python",
   "name": "python",
   "nbconvert_exporter": "python",
   "pygments_lexer": "ipython3",
   "version": "3.8.8"
  },
  "toc": {
   "base_numbering": 1,
   "nav_menu": {},
   "number_sections": true,
   "sideBar": true,
   "skip_h1_title": false,
   "title_cell": "Table of Contents",
   "title_sidebar": "Contents",
   "toc_cell": false,
   "toc_position": {},
   "toc_section_display": true,
   "toc_window_display": false
  }
 },
 "nbformat": 4,
 "nbformat_minor": 5
}
